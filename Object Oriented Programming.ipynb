{
 "cells": [
  {
   "cell_type": "code",
   "execution_count": 29,
   "metadata": {},
   "outputs": [
    {
     "name": "stdout",
     "output_type": "stream",
     "text": [
      "Account owner: agim \n",
      "Account balance 500\n"
     ]
    }
   ],
   "source": [
    "class account:\n",
    "    \n",
    "    def __init__(self,owner,balance):\n",
    "        self.owner = owner\n",
    "        self.balance = balance\n",
    "        \n",
    "    def __str__(self):\n",
    "        return f\"Account owner: {self.owner} \\nAccount balance {self.balance}\"\n",
    "    \n",
    "    def deposit(self,dept_amount):\n",
    "        self.balance += dept_amount\n",
    "        print (f\"deposit accepted! \\nyour current deposit is {self.balance}\")\n",
    "    \n",
    "    def withdraw(self,w_amount):\n",
    "        if self.balance >= w_amount:\n",
    "            self.balance -= w_amount\n",
    "            print (\"withdraw succeed\")\n",
    "        else:\n",
    "            print (f\"No enough amount on your balance, your current balance is : {self.balance}\")\n",
    "            \n",
    "a1 = account(\"agim\", 500)\n",
    "print(a1)\n",
    "    \n"
   ]
  },
  {
   "cell_type": "code",
   "execution_count": 30,
   "metadata": {},
   "outputs": [
    {
     "name": "stdout",
     "output_type": "stream",
     "text": [
      "deposit accepted! \n",
      "your current deposit is 600\n"
     ]
    }
   ],
   "source": [
    "a1.deposit(100)"
   ]
  },
  {
   "cell_type": "code",
   "execution_count": 31,
   "metadata": {},
   "outputs": [
    {
     "name": "stdout",
     "output_type": "stream",
     "text": [
      "No enough amount on your balance, your current balance is : 600\n"
     ]
    }
   ],
   "source": [
    "a1.withdraw(1000)"
   ]
  },
  {
   "cell_type": "markdown",
   "metadata": {},
   "source": [
    "### Polymorphism"
   ]
  },
  {
   "cell_type": "code",
   "execution_count": 46,
   "metadata": {},
   "outputs": [
    {
     "name": "stdout",
     "output_type": "stream",
     "text": [
      "catelyn Meow\n",
      "doggy whoof\n"
     ]
    }
   ],
   "source": [
    "class dog:\n",
    "    \n",
    "    def __init__(self,name):\n",
    "        self.name = name\n",
    "        \n",
    "    def sound(self):\n",
    "        return self.name + \" whoof\"\n",
    "    \n",
    "class cat:\n",
    "    \n",
    "    def __init__(self,name):\n",
    "        self.name = name\n",
    "        \n",
    "    def sound(self):\n",
    "        return self.name + \" Meow\"\n",
    "    \n",
    "catelyn = cat(\"catelyn\")\n",
    "doggy = dog(\"doggy\")\n",
    "    \n",
    "print(catelyn.sound())\n",
    "print(doggy.sound())\n"
   ]
  },
  {
   "cell_type": "markdown",
   "metadata": {},
   "source": [
    "### @Classmethod"
   ]
  },
  {
   "cell_type": "code",
   "execution_count": 53,
   "metadata": {},
   "outputs": [],
   "source": [
    "\n",
    "\n",
    "class surface_area:\n",
    "    \n",
    "    def __init__(self,shape, lenght1,lenght2):\n",
    "        self.shape = shape\n",
    "        self.lenght1 = lenght1\n",
    "        self.lenght2 = lenght2\n",
    "        \n",
    "    def count_surface(self):\n",
    "        if self.shape == \"triangle\":\n",
    "            return (self.lenght1*self.lenght2)/2\n",
    "        elif self.shape == \"square\":\n",
    "            return self.lenght1*self.lenght2\n",
    "        else:\n",
    "            print(\"cannot be counted\")\n",
    "        \n",
    "    @classmethod\n",
    "    def raw_input (var):\n",
    "\n",
    "        var1 = input(\"input shape (Triangle or Square):\")\n",
    "        var2 = int(input(\"input lenght1:\"))\n",
    "        var3 = int(input(\"input lenght2:\"))\n",
    "        \n",
    "        return var(var1,var2,var3)\n",
    "\n",
    "    "
   ]
  },
  {
   "cell_type": "code",
   "execution_count": 54,
   "metadata": {},
   "outputs": [
    {
     "name": "stdout",
     "output_type": "stream",
     "text": [
      "input shape (Triangle or Square):triangle\n",
      "input lenght1:30\n",
      "input lenght2:40\n"
     ]
    }
   ],
   "source": [
    "user = surface_area.raw_input()"
   ]
  },
  {
   "cell_type": "code",
   "execution_count": 55,
   "metadata": {},
   "outputs": [
    {
     "data": {
      "text/plain": [
       "600.0"
      ]
     },
     "execution_count": 55,
     "metadata": {},
     "output_type": "execute_result"
    }
   ],
   "source": [
    "user.count_surface()"
   ]
  },
  {
   "cell_type": "code",
   "execution_count": 56,
   "metadata": {},
   "outputs": [
    {
     "name": "stdout",
     "output_type": "stream",
     "text": [
      "input shape (Triangle or Square):square\n",
      "input lenght1:20\n",
      "input lenght2:20\n"
     ]
    }
   ],
   "source": [
    "user2 = surface_area.raw_input()"
   ]
  },
  {
   "cell_type": "code",
   "execution_count": 58,
   "metadata": {},
   "outputs": [
    {
     "data": {
      "text/plain": [
       "400"
      ]
     },
     "execution_count": 58,
     "metadata": {},
     "output_type": "execute_result"
    }
   ],
   "source": [
    "user2.count_surface()"
   ]
  },
  {
   "cell_type": "code",
   "execution_count": 59,
   "metadata": {},
   "outputs": [
    {
     "name": "stdout",
     "output_type": "stream",
     "text": [
      "input shape (Triangle or Square):asdsadas\n",
      "input lenght1:100\n",
      "input lenght2:100\n"
     ]
    }
   ],
   "source": [
    "user3 = surface_area.raw_input()"
   ]
  },
  {
   "cell_type": "code",
   "execution_count": 62,
   "metadata": {
    "scrolled": true
   },
   "outputs": [
    {
     "name": "stdout",
     "output_type": "stream",
     "text": [
      "cannot be counted\n"
     ]
    }
   ],
   "source": [
    "user3.count_surface()"
   ]
  },
  {
   "cell_type": "code",
   "execution_count": 65,
   "metadata": {},
   "outputs": [
    {
     "data": {
      "text/plain": [
       "'asdsadas'"
      ]
     },
     "execution_count": 65,
     "metadata": {},
     "output_type": "execute_result"
    }
   ],
   "source": [
    "user3.shape"
   ]
  }
 ],
 "metadata": {
  "kernelspec": {
   "display_name": "Python 3",
   "language": "python",
   "name": "python3"
  },
  "language_info": {
   "codemirror_mode": {
    "name": "ipython",
    "version": 3
   },
   "file_extension": ".py",
   "mimetype": "text/x-python",
   "name": "python",
   "nbconvert_exporter": "python",
   "pygments_lexer": "ipython3",
   "version": "3.8.5"
  }
 },
 "nbformat": 4,
 "nbformat_minor": 4
}
