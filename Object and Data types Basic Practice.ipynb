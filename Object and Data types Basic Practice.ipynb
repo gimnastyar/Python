{
 "cells": [
  {
   "cell_type": "markdown",
   "metadata": {},
   "source": [
    "## String INDEX and SLICING "
   ]
  },
  {
   "cell_type": "code",
   "execution_count": 26,
   "metadata": {
    "scrolled": true
   },
   "outputs": [
    {
     "name": "stdout",
     "output_type": "stream",
     "text": [
      "11\n",
      "EO\n",
      "d\n",
      "LLO World\n",
      "<class 'str'>\n"
     ]
    },
    {
     "data": {
      "text/plain": [
       "'HELLO WORLD'"
      ]
     },
     "execution_count": 26,
     "metadata": {},
     "output_type": "execute_result"
    }
   ],
   "source": [
    "Mystring = \"HELLO World\"\n",
    "testa = len(Mystring)\n",
    "print(testa)\n",
    "\n",
    "testb = Mystring [1:7:3]\n",
    "testc = Mystring[-1]\n",
    "testd = Mystring[2:]\n",
    "print(testb)\n",
    "print(testc)\n",
    "print(testd)\n",
    "print(type(Mystring))\n",
    "Mystring.upper() #using tab to see function option"
   ]
  },
  {
   "cell_type": "markdown",
   "metadata": {},
   "source": [
    "# STRING FORMATTING \n",
    "\n",
    "there are 3 main ways to format pyhton strings :  \n",
    "    \n",
    "1. %s  / %r (exact)  \n",
    "    \n",
    "2. {} + .format()  \n",
    "    \n",
    "3. f' + {} '"
   ]
  },
  {
   "cell_type": "code",
   "execution_count": 46,
   "metadata": {},
   "outputs": [
    {
     "name": "stdout",
     "output_type": "stream",
     "text": [
      "i'm going to inject something a here and b here\n",
      "\n",
      "\n",
      "there's a baboon in my '\\t house'\n",
      "there's a baboon in my \t house\n",
      "\n",
      "\n",
      "This is my ten-character, two-decimal number: 13.58\n",
      "\n",
      "\n",
      "i always work hard\n",
      "First Object: 1, Second Object: Two, Third Object: 12.3\n",
      "\n",
      "\n",
      "Left     |  Center  |    Right\n",
      "11       |    22    |       33\n",
      "\n",
      "\n",
      "This is my ten-character, two-decimal number:     13.58\n",
      "\n",
      "\n",
      "asdasdsadsadsadasdsd HELLO World\n",
      "\n",
      "\n",
      "My 10 character, four decimal number is:   23.4500\n",
      "My 10 character, four decimal number is:   23.4500\n"
     ]
    }
   ],
   "source": [
    "# example for number 1 \n",
    "print( \"i'm going to inject something %s here and %s here\" % ('a','b'))\n",
    "print('\\n')\n",
    "print(\"there's a baboon in my %r\" % '\\t house')\n",
    "print(\"there's a baboon in my %s\" % '\\t house')\n",
    "print('\\n')\n",
    "print('This is my ten-character, two-decimal number:%6.2f' %13.579)\n",
    "print('\\n')\n",
    "# example for number 2\n",
    "print('i always work {}'.format(\"hard\"))\n",
    "print('First Object: {a}, Second Object: {b}, Third Object: {c}'.format(a=1,b='Two',c=12.3))\n",
    "print('\\n')\n",
    "print('{0:<8} | {1:^8} | {2:>8}'.format('Left','Center','Right'))\n",
    "print('{0:<8} | {1:^8} | {2:>8}'.format(11,22,33))\n",
    "print('\\n')\n",
    "print('This is my ten-character, two-decimal number:{0:10.2f}'.format(13.579))\n",
    "print('\\n')\n",
    "# example for number 3\n",
    "print(f'asdasdsadsadsadasdsd {Mystring}')\n",
    "print('\\n')\n",
    "num = 23.45\n",
    "# u can use .format() in F-strings\n",
    "print(\"My 10 character, four decimal number is:{0:10.4f}\".format(num))\n",
    "print(f\"My 10 character, four decimal number is:{num:10.4f}\")\n"
   ]
  },
  {
   "cell_type": "markdown",
   "metadata": {},
   "source": [
    "# LIST AND DICTIONARY\n",
    "\n",
    "List = [   ] >> list are mutable, so the element inside the list can be changed  \n",
    "Dictionary{key : Value} >> just like a SQL table, a value can contain list"
   ]
  },
  {
   "cell_type": "markdown",
   "metadata": {},
   "source": [
    "## Python LIST"
   ]
  },
  {
   "cell_type": "code",
   "execution_count": 61,
   "metadata": {},
   "outputs": [
    {
     "name": "stdout",
     "output_type": "stream",
     "text": [
      "4\n",
      "['sdasdsad', 355, '545', 9.0, 'sdasdsad', 355, '545']\n"
     ]
    }
   ],
   "source": [
    "# Index and slicing list\n",
    "mylist = [\"sdasdsad\",355,'545',9.000]\n",
    "print(len(mylist))\n",
    "#start\n",
    "a = mylist[:3] #slicing\n",
    "b = \"sdsadasd\"\n",
    "mylista= mylist + a\n",
    "print(mylista) #list can add another list (not ONLY int or str. example : b )\n"
   ]
  },
  {
   "cell_type": "markdown",
   "metadata": {},
   "source": [
    "basic list method:  \n",
    "* append >> add int or str to list element\n",
    "* pop >> drop element from list\n",
    "* reverse >> reverse the arrangement\n",
    "* sort >> sorting list asc/dsc but only for same type"
   ]
  },
  {
   "cell_type": "code",
   "execution_count": 68,
   "metadata": {},
   "outputs": [
    {
     "data": {
      "text/plain": [
       "[1, 2, 3, 'a', 'b', 'c', 'd']"
      ]
     },
     "execution_count": 68,
     "metadata": {},
     "output_type": "execute_result"
    }
   ],
   "source": [
    "list1 = [1,2,3,\"a\",\"b\",\"c\"]\n",
    "list1.append(\"d\")\n",
    "list1"
   ]
  },
  {
   "cell_type": "code",
   "execution_count": 70,
   "metadata": {},
   "outputs": [
    {
     "data": {
      "text/plain": [
       "[1, 2, 3, 'c', 'd']"
      ]
     },
     "execution_count": 70,
     "metadata": {},
     "output_type": "execute_result"
    }
   ],
   "source": [
    "list1.pop(3)\n",
    "list1"
   ]
  },
  {
   "cell_type": "code",
   "execution_count": 79,
   "metadata": {},
   "outputs": [
    {
     "data": {
      "text/plain": [
       "[1, 2, 3, 'c', 'd']"
      ]
     },
     "execution_count": 79,
     "metadata": {},
     "output_type": "execute_result"
    }
   ],
   "source": [
    "list1.reverse()\n",
    "list1"
   ]
  },
  {
   "cell_type": "markdown",
   "metadata": {},
   "source": [
    "## list nesting (matrix)"
   ]
  },
  {
   "cell_type": "code",
   "execution_count": 91,
   "metadata": {},
   "outputs": [
    {
     "name": "stdout",
     "output_type": "stream",
     "text": [
      "[[1, 2, 3], [4, 5, 6], [7, 8, 9]]\n",
      "[1, 2, 3]\n",
      "3\n"
     ]
    },
    {
     "data": {
      "text/plain": [
       "[2, 5, 8]"
      ]
     },
     "execution_count": 91,
     "metadata": {},
     "output_type": "execute_result"
    }
   ],
   "source": [
    "ls1= [1,2,3]\n",
    "ls2= [4,5,6]\n",
    "ls3= [7,8,9]\n",
    "matrix = [ls1,ls2,ls3]\n",
    "print(matrix)\n",
    "print(matrix[0])\n",
    "print(matrix[0][2])\n",
    "\n",
    "secondcolumn = [col[1] for col in matrix]\n",
    "secondcolumn"
   ]
  },
  {
   "cell_type": "markdown",
   "metadata": {},
   "source": [
    "## Python DICTIONARY"
   ]
  },
  {
   "cell_type": "code",
   "execution_count": 117,
   "metadata": {},
   "outputs": [
    {
     "name": "stdout",
     "output_type": "stream",
     "text": [
      "[12, 23, 33]\n",
      "23\n",
      "Item1\n",
      "{'key1': 123, 'key2': [12, 23, 33], 'key3': ['item0', 'item1', 'item2'], 'key4': 'sadsadsad'}\n",
      "sadsadsad\n"
     ]
    },
    {
     "data": {
      "text/plain": [
       "{'key1': 123, 'key2': [12, 23, 33], 'key3': ['item0', 'item1', 'item2']}"
      ]
     },
     "execution_count": 117,
     "metadata": {},
     "output_type": "execute_result"
    }
   ],
   "source": [
    "my_dict = {'key1':123,'key2':[12,23,33],'key3':['item0','item1','item2']}\n",
    "print(my_dict['key2'])\n",
    "print(my_dict['key2'][1])\n",
    "print(my_dict[\"key3\"][1].capitalize())\n",
    "my_dict['key4'] = 'sadsadsad'\n",
    "print(my_dict)\n",
    "print(my_dict.pop(\"key4\"))\n",
    "my_dict"
   ]
  },
  {
   "cell_type": "markdown",
   "metadata": {},
   "source": [
    "There are few dict method such as :  \n",
    "* d.key  \n",
    "* d.value  \n",
    "* d.items"
   ]
  },
  {
   "cell_type": "code",
   "execution_count": 120,
   "metadata": {},
   "outputs": [
    {
     "name": "stdout",
     "output_type": "stream",
     "text": [
      "dict_keys(['key1', 'key2'])\n",
      "dict_values([1, 2])\n",
      "dict_items([('key1', 1), ('key2', 2)])\n"
     ]
    }
   ],
   "source": [
    "d = {'key1':1,'key2':2}\n",
    "print(d.keys())\n",
    "print(d.values())\n",
    "print(d.items())"
   ]
  },
  {
   "cell_type": "markdown",
   "metadata": {},
   "source": [
    "## Tuples, Sets and Booleans  \n",
    "\n",
    "* Tuple are just like list but Immutable, can contain same value, fewer built-in method can be applied to tuple t = (...)\n",
    "* Sets are mutable but contain unique values x = set()\n",
    "* Booleans >> true/ false"
   ]
  },
  {
   "cell_type": "code",
   "execution_count": 134,
   "metadata": {},
   "outputs": [
    {
     "name": "stdout",
     "output_type": "stream",
     "text": [
      "{1, 2, 3, 4, 5, 6, 7}\n",
      "\n",
      "\n",
      "(9, 10, 11, 12, 13)\n",
      "\n",
      "\n",
      "<class 'bool'>\n"
     ]
    },
    {
     "data": {
      "text/plain": [
       "True"
      ]
     },
     "execution_count": 134,
     "metadata": {},
     "output_type": "execute_result"
    }
   ],
   "source": [
    "#sets\n",
    "listx = [1,1,1,2,3,4,4,5,6,7]\n",
    "a = set(listx)\n",
    "print(a)\n",
    "print('\\n')\n",
    "#tuples\n",
    "tup = (9,10)\n",
    "c = (11,12,13)\n",
    "xx = tup + c\n",
    "print(xx)\n",
    "print('\\n')\n",
    "#booleans\n",
    "bcd = 20\n",
    "abc = bcd < 2000\n",
    "print(type(abc))\n",
    "abc"
   ]
  }
 ],
 "metadata": {
  "kernelspec": {
   "display_name": "Python 3",
   "language": "python",
   "name": "python3"
  },
  "language_info": {
   "codemirror_mode": {
    "name": "ipython",
    "version": 3
   },
   "file_extension": ".py",
   "mimetype": "text/x-python",
   "name": "python",
   "nbconvert_exporter": "python",
   "pygments_lexer": "ipython3",
   "version": "3.8.5"
  }
 },
 "nbformat": 4,
 "nbformat_minor": 4
}
