{
 "cells": [
  {
   "cell_type": "markdown",
   "metadata": {},
   "source": [
    "# # Python Statements\n",
    "### For and while loops \n",
    "### If, Else if, Else\n"
   ]
  },
  {
   "cell_type": "code",
   "execution_count": 2,
   "metadata": {},
   "outputs": [],
   "source": [
    "list1 = [0,1,2,3,4,5,6,7]"
   ]
  },
  {
   "cell_type": "code",
   "execution_count": 5,
   "metadata": {},
   "outputs": [
    {
     "name": "stdout",
     "output_type": "stream",
     "text": [
      "0\n",
      "odd number\n",
      "2\n",
      "odd number\n",
      "4\n",
      "odd number\n",
      "6\n",
      "odd number\n"
     ]
    }
   ],
   "source": [
    "for item in list1:\n",
    "    if item % 2 == 0:\n",
    "        print(item)\n",
    "    else:\n",
    "        print(\"odd number\")"
   ]
  },
  {
   "cell_type": "code",
   "execution_count": 13,
   "metadata": {},
   "outputs": [
    {
     "name": "stdout",
     "output_type": "stream",
     "text": [
      "\n",
      "1\n",
      "22\n",
      "333\n",
      "4444\n"
     ]
    }
   ],
   "source": [
    "for exitem in range (0,5):\n",
    "    for initem in range (exitem):\n",
    "        print(exitem, end = \"\")\n",
    "    print(\"\")"
   ]
  },
  {
   "cell_type": "code",
   "execution_count": 22,
   "metadata": {},
   "outputs": [
    {
     "name": "stdout",
     "output_type": "stream",
     "text": [
      "1 \n",
      "2 \n",
      "3 \n",
      "\n",
      "2 \n",
      "4 \n",
      "6 \n",
      "\n",
      "3 \n",
      "6 \n",
      "9 \n",
      "\n",
      "4 \n",
      "8 \n",
      "12 \n",
      "\n",
      "5 \n",
      "10 \n",
      "15 \n",
      "\n"
     ]
    }
   ],
   "source": [
    "list2 = [1,2,3,4,5]\n",
    "list3 = [1,2,3]\n",
    "\n",
    "for item in list2:\n",
    "    for item2 in list3:\n",
    "        print(item * item2,\"\\n\", end = \"\")\n",
    "    print(\"\")"
   ]
  },
  {
   "cell_type": "code",
   "execution_count": 3,
   "metadata": {},
   "outputs": [
    {
     "name": "stdout",
     "output_type": "stream",
     "text": [
      "current letter is : d\n",
      "current letter is : s\n",
      "current letter is :  \n",
      "current letter is : i\n",
      "current letter is : d\n",
      "current letter is : s\n"
     ]
    }
   ],
   "source": [
    "i = 0\n",
    "a = \"das ids\"\n",
    "\n",
    "while i < len(a):\n",
    "    if a[i] == \"a\" or a[i] == \"l\":\n",
    "        i += 1\n",
    "        continue\n",
    "    print(\"current letter is :\", a[i])\n",
    "    i += 1"
   ]
  },
  {
   "cell_type": "code",
   "execution_count": 1,
   "metadata": {},
   "outputs": [
    {
     "name": "stdout",
     "output_type": "stream",
     "text": [
      "1\n",
      "2\n",
      "buzz\n",
      "4\n",
      "fizz\n",
      "buzz\n",
      "7\n",
      "8\n",
      "buzz\n",
      "fizz\n",
      "11\n",
      "buzz\n",
      "13\n",
      "14\n",
      "buzz\n",
      "16\n",
      "17\n",
      "buzz\n",
      "19\n"
     ]
    }
   ],
   "source": [
    "for num in range(1,20):\n",
    "    if num%3 == 0:\n",
    "        print(\"buzz\")\n",
    "    elif num%5 ==0: \n",
    "        print(\"fizz\")\n",
    "    else:\n",
    "        print(num)"
   ]
  },
  {
   "cell_type": "markdown",
   "metadata": {},
   "source": [
    "## Python Functions "
   ]
  },
  {
   "cell_type": "code",
   "execution_count": 6,
   "metadata": {},
   "outputs": [
    {
     "data": {
      "text/plain": [
       "[2, 4]"
      ]
     },
     "execution_count": 6,
     "metadata": {},
     "output_type": "execute_result"
    }
   ],
   "source": [
    "def check_even_list(number):\n",
    "    even_number = []\n",
    "    \n",
    "    #return all even number within list\n",
    "    \n",
    "    for num in number:\n",
    "        if num % 2 == 0:\n",
    "            even_number.append(num)\n",
    "        else:\n",
    "            pass\n",
    "    return even_number\n",
    "\n",
    "check_even_list([1,2,3,4])\n",
    "        \n"
   ]
  },
  {
   "cell_type": "code",
   "execution_count": 11,
   "metadata": {},
   "outputs": [
    {
     "data": {
      "text/plain": [
       "(30, 'Dadang')"
      ]
     },
     "execution_count": 11,
     "metadata": {},
     "output_type": "execute_result"
    }
   ],
   "source": [
    "emp = [(\"Asep\",20),(\"Dadang\", 30),(\"Tatang\",10)]\n",
    "\n",
    "def employee(emp_of_the_month):\n",
    "    # we are going to check and iterate amount of work hour for every single emp\n",
    "    # the winner is emp with the most long work hours\n",
    "    \n",
    "    emp_workhours = 0\n",
    "    emp_of_month = \"\"\n",
    "    \n",
    "    #let's loop to check one by one\n",
    "    \n",
    "    for name,hours in emp_of_the_month:\n",
    "        if hours > emp_workhours:\n",
    "            emp_workhours = hours\n",
    "            emp_of_month  = name\n",
    "        else:\n",
    "            pass\n",
    "    #show the most hardworker emp of the month \n",
    "    return(emp_workhours,emp_of_month)\n",
    "\n",
    "employee(emp)"
   ]
  },
  {
   "cell_type": "markdown",
   "metadata": {},
   "source": [
    "### Args* and Kwargs**"
   ]
  },
  {
   "cell_type": "code",
   "execution_count": 16,
   "metadata": {},
   "outputs": [
    {
     "name": "stdout",
     "output_type": "stream",
     "text": [
      "6\n",
      "\n",
      "\n",
      "tasty apple\n"
     ]
    }
   ],
   "source": [
    "#this is args\n",
    "\n",
    "def myfunc(*number):\n",
    "    a = sum(number)\n",
    "    print(a)\n",
    "myfunc(4,2)\n",
    "\n",
    "print(\"\\n\")\n",
    "\n",
    "\"\"\"this is kwargs\"\"\"\n",
    "\n",
    "def myfunc1(**fruits):\n",
    "    if \"fruit\" in fruits:\n",
    "        print(\"tasty {}\".format (fruits[\"fruit\"]))\n",
    "    else :\n",
    "        print(\"Nasty\")\n",
    "myfunc1(fruit = \"apple\", meal = \"potatoes\")\n"
   ]
  },
  {
   "cell_type": "code",
   "execution_count": 17,
   "metadata": {},
   "outputs": [
    {
     "name": "stdout",
     "output_type": "stream",
     "text": [
      "I like eggs and spam and my favorite fruit is cherries\n",
      "May I have some orange juice?\n"
     ]
    }
   ],
   "source": [
    "def myfunc(*args, **kwargs):\n",
    "    if 'fruit' and 'juice' in kwargs:\n",
    "        print(f\"I like {' and '.join(args)} and my favorite fruit is {kwargs['fruit']}\")\n",
    "        print(f\"May I have some {kwargs['juice']} juice?\")\n",
    "    else:\n",
    "        pass\n",
    "        \n",
    "myfunc('eggs','spam',fruit='cherries',juice='orange')"
   ]
  },
  {
   "cell_type": "code",
   "execution_count": null,
   "metadata": {},
   "outputs": [],
   "source": []
  }
 ],
 "metadata": {
  "kernelspec": {
   "display_name": "Python 3",
   "language": "python",
   "name": "python3"
  },
  "language_info": {
   "codemirror_mode": {
    "name": "ipython",
    "version": 3
   },
   "file_extension": ".py",
   "mimetype": "text/x-python",
   "name": "python",
   "nbconvert_exporter": "python",
   "pygments_lexer": "ipython3",
   "version": "3.8.5"
  }
 },
 "nbformat": 4,
 "nbformat_minor": 4
}
